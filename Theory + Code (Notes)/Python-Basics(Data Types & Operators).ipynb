{
 "cells": [
  {
   "cell_type": "markdown",
   "id": "f7984049-8ead-4958-a1cc-c7a603d8259c",
   "metadata": {},
   "source": [
    "NOTEBOOK 1:\n",
    "\n",
    "\n",
    "Python  is an interpreted, object-oriented, high-level programming language with dynamic semantics. \n",
    "(CASE SENSITIVE)"
   ]
  },
  {
   "cell_type": "code",
   "execution_count": 1,
   "id": "67bbe00c-fa41-4492-a4b0-2f2d05a64d51",
   "metadata": {},
   "outputs": [],
   "source": [
    "# use single quote(') or double quote(\") in the print statement to get the output"
   ]
  },
  {
   "cell_type": "code",
   "execution_count": 2,
   "id": "5766156a-6ef0-4afb-824c-e2888d5c11de",
   "metadata": {},
   "outputs": [
    {
     "name": "stdout",
     "output_type": "stream",
     "text": [
      "I am Muthus...\n"
     ]
    }
   ],
   "source": [
    "print('I am Muthus...')"
   ]
  },
  {
   "cell_type": "markdown",
   "id": "b261e9dd-ef4f-4081-b3cf-1ae7acf2fbbd",
   "metadata": {},
   "source": [
    "# DATA TYPES"
   ]
  },
  {
   "cell_type": "markdown",
   "id": "71095e6c-8f7f-4423-8af8-60965e0c537a",
   "metadata": {},
   "source": [
    "Numbers"
   ]
  },
  {
   "cell_type": "code",
   "execution_count": 3,
   "id": "cb3df14e-0c7f-4434-bc09-a29ef6741e8d",
   "metadata": {},
   "outputs": [],
   "source": [
    "# intergers \n",
    "\n",
    "#15, 30, 5,....\n",
    "\n",
    "# floats\n",
    "\n",
    "#15.0, 30.0, 5.0,..."
   ]
  },
  {
   "cell_type": "markdown",
   "id": "95e8a706-7d0d-496c-a7b4-32a1c9bdd574",
   "metadata": {},
   "source": [
    "Boolean"
   ]
  },
  {
   "cell_type": "code",
   "execution_count": 4,
   "id": "8ec046c2-dee1-4843-88fb-747024342955",
   "metadata": {},
   "outputs": [],
   "source": [
    "# Booleans are essential when we start using conditional statement\n",
    "\n",
    "# In fact, since a condition is really just a yes-or-no question, the answer to that question is a Boolean value, either True or False"
   ]
  },
  {
   "cell_type": "markdown",
   "id": "ed2cd6c4-25e1-45d5-b6f6-c346667647c8",
   "metadata": {},
   "source": [
    "String"
   ]
  },
  {
   "cell_type": "code",
   "execution_count": 5,
   "id": "89da9542-27e1-4812-a51b-18774aed9a48",
   "metadata": {},
   "outputs": [],
   "source": [
    "# A string consists of a sequence of one or more characters, which can include letters, numbers and other types of characters.\n",
    "\n",
    "# Use single quotes or double quotes to represent strings and it is also called a string literal."
   ]
  },
  {
   "cell_type": "code",
   "execution_count": 6,
   "id": "5b6b1d6c-81cb-4916-ad0a-1ddde2c4f418",
   "metadata": {},
   "outputs": [
    {
     "data": {
      "text/plain": [
       "'Happy'"
      ]
     },
     "execution_count": 6,
     "metadata": {},
     "output_type": "execute_result"
    }
   ],
   "source": [
    "'Happy'"
   ]
  },
  {
   "cell_type": "code",
   "execution_count": 7,
   "id": "f2e5988c-17f0-4b52-9d99-c5287fb3edb6",
   "metadata": {},
   "outputs": [
    {
     "data": {
      "text/plain": [
       "'Happy'"
      ]
     },
     "execution_count": 7,
     "metadata": {},
     "output_type": "execute_result"
    }
   ],
   "source": [
    "\"Happy\""
   ]
  },
  {
   "cell_type": "code",
   "execution_count": 8,
   "id": "bcd47baf-b298-40d8-b941-6c8f93d53052",
   "metadata": {},
   "outputs": [
    {
     "data": {
      "text/plain": [
       "\"Muthus' happiness...\""
      ]
     },
     "execution_count": 8,
     "metadata": {},
     "output_type": "execute_result"
    }
   ],
   "source": [
    "\"Muthus' happiness...\""
   ]
  },
  {
   "cell_type": "markdown",
   "id": "6691e6dd-7d53-41a6-9f32-3e3f7c90fafa",
   "metadata": {},
   "source": [
    "None"
   ]
  },
  {
   "cell_type": "code",
   "execution_count": 9,
   "id": "947e488f-bb07-4283-b0e9-6c1d23e81c34",
   "metadata": {},
   "outputs": [],
   "source": [
    "# None is frequently used to represent the absence of a value"
   ]
  },
  {
   "cell_type": "code",
   "execution_count": 10,
   "id": "d0dc1d67-a441-4a89-afce-008dff3b935d",
   "metadata": {},
   "outputs": [],
   "source": [
    "money=None"
   ]
  },
  {
   "cell_type": "markdown",
   "id": "fa087c97-7bfa-4237-af94-ee8ecb497ae8",
   "metadata": {},
   "source": [
    "Assigning values to variables"
   ]
  },
  {
   "cell_type": "code",
   "execution_count": 11,
   "id": "0a5fd538-3acb-41dc-a543-5547393267c2",
   "metadata": {},
   "outputs": [],
   "source": [
    "num = 8                      #int"
   ]
  },
  {
   "cell_type": "code",
   "execution_count": 12,
   "id": "f2a981ce-a9d5-4a02-8ec9-0195e4d45d33",
   "metadata": {},
   "outputs": [],
   "source": [
    "x = 7.2                      #float"
   ]
  },
  {
   "cell_type": "code",
   "execution_count": 13,
   "id": "5d0e7b18-2654-449f-99a7-239b12bca9f5",
   "metadata": {},
   "outputs": [],
   "source": [
    "name = 'Muthus'              #string"
   ]
  },
  {
   "cell_type": "code",
   "execution_count": 14,
   "id": "e05c08c0-c637-429a-bc9c-cafe023f32c8",
   "metadata": {},
   "outputs": [
    {
     "data": {
      "text/plain": [
       "8"
      ]
     },
     "execution_count": 14,
     "metadata": {},
     "output_type": "execute_result"
    }
   ],
   "source": [
    "num"
   ]
  },
  {
   "cell_type": "code",
   "execution_count": 15,
   "id": "9af54f4c-0739-4cd4-b20f-fc2cf5cf6d6d",
   "metadata": {},
   "outputs": [
    {
     "data": {
      "text/plain": [
       "'Muthus'"
      ]
     },
     "execution_count": 15,
     "metadata": {},
     "output_type": "execute_result"
    }
   ],
   "source": [
    "name"
   ]
  },
  {
   "cell_type": "code",
   "execution_count": 16,
   "id": "ef4edd01-8420-412d-ad10-27db3d4b4ce5",
   "metadata": {},
   "outputs": [
    {
     "data": {
      "text/plain": [
       "7.2"
      ]
     },
     "execution_count": 16,
     "metadata": {},
     "output_type": "execute_result"
    }
   ],
   "source": [
    "x"
   ]
  },
  {
   "cell_type": "code",
   "execution_count": 17,
   "id": "381ac54c-d483-4ac9-820e-6646f601036b",
   "metadata": {},
   "outputs": [],
   "source": [
    "# Python allows to assign a single value to several variable simultaneously"
   ]
  },
  {
   "cell_type": "code",
   "execution_count": 18,
   "id": "851c7bde-0f59-4470-883b-cc79c463cdf1",
   "metadata": {},
   "outputs": [],
   "source": [
    "a=b=c=1"
   ]
  },
  {
   "cell_type": "code",
   "execution_count": 19,
   "id": "0b9578b1-2670-467a-b123-3132fbf9abf6",
   "metadata": {},
   "outputs": [
    {
     "data": {
      "text/plain": [
       "1"
      ]
     },
     "execution_count": 19,
     "metadata": {},
     "output_type": "execute_result"
    }
   ],
   "source": [
    "a"
   ]
  },
  {
   "cell_type": "markdown",
   "id": "3d75dc4b-46c6-4f19-adc2-55ac8b1b0a72",
   "metadata": {},
   "source": [
    "# INPUT AND OUTPUT"
   ]
  },
  {
   "cell_type": "code",
   "execution_count": 20,
   "id": "13b02337-0284-4b97-be84-436e5d62d9a1",
   "metadata": {},
   "outputs": [],
   "source": [
    "# input() function is used to gather data from the user"
   ]
  },
  {
   "cell_type": "code",
   "execution_count": 21,
   "id": "b4336bd0-4201-4f95-a07c-9d7b1191e1be",
   "metadata": {},
   "outputs": [
    {
     "name": "stdin",
     "output_type": "stream",
     "text": [
      "What is your name? Muthu\n"
     ]
    }
   ],
   "source": [
    "person = input(\"What is your name?\")"
   ]
  },
  {
   "cell_type": "code",
   "execution_count": 22,
   "id": "16468661-d287-4a5d-949c-badbda52137a",
   "metadata": {},
   "outputs": [],
   "source": [
    "# print() function allows a program to display text onto the console"
   ]
  },
  {
   "cell_type": "code",
   "execution_count": 23,
   "id": "e8c1f328-09ac-4f2c-b5db-6d1ecf037055",
   "metadata": {},
   "outputs": [],
   "source": [
    "# format() method:"
   ]
  },
  {
   "cell_type": "code",
   "execution_count": 24,
   "id": "f9e0004d-0830-47b2-b281-cb6a78a52fc9",
   "metadata": {},
   "outputs": [
    {
     "name": "stdin",
     "output_type": "stream",
     "text": [
      "Which country do you live in? India\n"
     ]
    }
   ],
   "source": [
    "country=input(\"Which country do you live in?\")"
   ]
  },
  {
   "cell_type": "code",
   "execution_count": 25,
   "id": "8a80c25c-d1f2-4ce3-b88f-10fd56fc0e33",
   "metadata": {},
   "outputs": [
    {
     "name": "stdout",
     "output_type": "stream",
     "text": [
      "I live in India\n"
     ]
    }
   ],
   "source": [
    "print(\"I live in {0}\".format(country))"
   ]
  },
  {
   "cell_type": "code",
   "execution_count": 26,
   "id": "7138d918-4108-4bd0-a840-4cc2b34b4e9f",
   "metadata": {},
   "outputs": [],
   "source": [
    "#f-string method:"
   ]
  },
  {
   "cell_type": "code",
   "execution_count": 27,
   "id": "cc0da4af-20e5-41e8-82cf-8323a2a72799",
   "metadata": {},
   "outputs": [
    {
     "name": "stdout",
     "output_type": "stream",
     "text": [
      "I live in India\n"
     ]
    }
   ],
   "source": [
    "print(f\"I live in {country}\")"
   ]
  },
  {
   "cell_type": "markdown",
   "id": "782dd194-33db-495d-a3bd-509d0589bb3b",
   "metadata": {},
   "source": [
    "# Type Conversion"
   ]
  },
  {
   "cell_type": "code",
   "execution_count": 28,
   "id": "2059a420-eab1-4c2d-a320-b0dd6740ab01",
   "metadata": {},
   "outputs": [],
   "source": [
    "# int() function to explicitly convert a float number or a string to an interger"
   ]
  },
  {
   "cell_type": "code",
   "execution_count": 29,
   "id": "6584906f-b7e8-4d04-8804-4fcb907cfc42",
   "metadata": {},
   "outputs": [
    {
     "data": {
      "text/plain": [
       "4"
      ]
     },
     "execution_count": 29,
     "metadata": {},
     "output_type": "execute_result"
    }
   ],
   "source": [
    "int(4.5)"
   ]
  },
  {
   "cell_type": "code",
   "execution_count": 30,
   "id": "0ac0130f-0ac8-42b5-8950-66aba5320edf",
   "metadata": {},
   "outputs": [
    {
     "data": {
      "text/plain": [
       "2"
      ]
     },
     "execution_count": 30,
     "metadata": {},
     "output_type": "execute_result"
    }
   ],
   "source": [
    "int('2')"
   ]
  },
  {
   "cell_type": "code",
   "execution_count": 31,
   "id": "330c8237-f9be-4a1a-85ce-681830076618",
   "metadata": {},
   "outputs": [
    {
     "name": "stdin",
     "output_type": "stream",
     "text": [
      "Enter a number: 8\n"
     ]
    }
   ],
   "source": [
    "number = input('Enter a number:')"
   ]
  },
  {
   "cell_type": "code",
   "execution_count": 32,
   "id": "e87ded36-b871-4265-a87d-218b6f5db352",
   "metadata": {},
   "outputs": [
    {
     "data": {
      "text/plain": [
       "'8'"
      ]
     },
     "execution_count": 32,
     "metadata": {},
     "output_type": "execute_result"
    }
   ],
   "source": [
    "number"
   ]
  },
  {
   "cell_type": "code",
   "execution_count": 34,
   "id": "b977bd1d-0330-427a-b20a-8a41d0b5cf3b",
   "metadata": {},
   "outputs": [
    {
     "name": "stdin",
     "output_type": "stream",
     "text": [
      "Enter a number: 8\n"
     ]
    }
   ],
   "source": [
    "number = int(input('Enter a number:'))"
   ]
  },
  {
   "cell_type": "code",
   "execution_count": 35,
   "id": "bd96886b-6587-4cfe-9a96-6b31a1b564df",
   "metadata": {},
   "outputs": [
    {
     "data": {
      "text/plain": [
       "8"
      ]
     },
     "execution_count": 35,
     "metadata": {},
     "output_type": "execute_result"
    }
   ],
   "source": [
    "number"
   ]
  },
  {
   "cell_type": "code",
   "execution_count": 36,
   "id": "2730640d-1a96-4e4d-9599-0c3ba752ffd6",
   "metadata": {},
   "outputs": [],
   "source": [
    "# float() function returns a floating point number constructed from a number or a string"
   ]
  },
  {
   "cell_type": "code",
   "execution_count": 40,
   "id": "1a58ac45-4bdb-4b50-b695-793f7601c8be",
   "metadata": {},
   "outputs": [],
   "source": [
    "y=6"
   ]
  },
  {
   "cell_type": "code",
   "execution_count": 41,
   "id": "e5320cef-8352-4ee5-bc74-7074cda8475e",
   "metadata": {},
   "outputs": [],
   "source": [
    "y = float(y)"
   ]
  },
  {
   "cell_type": "code",
   "execution_count": 42,
   "id": "8e9ea5ab-f0cc-4f09-b800-e0bc18f3a828",
   "metadata": {},
   "outputs": [
    {
     "data": {
      "text/plain": [
       "6.0"
      ]
     },
     "execution_count": 42,
     "metadata": {},
     "output_type": "execute_result"
    }
   ],
   "source": [
    "y"
   ]
  },
  {
   "cell_type": "code",
   "execution_count": 43,
   "id": "ed943a52-e420-4389-9f17-e516333bd95d",
   "metadata": {},
   "outputs": [],
   "source": [
    "#The str() function returns a string which is fairly human readable."
   ]
  },
  {
   "cell_type": "code",
   "execution_count": 44,
   "id": "5ca8a9bd-c2f8-4824-95f4-94c2b446661f",
   "metadata": {},
   "outputs": [],
   "source": [
    "x=str(5)"
   ]
  },
  {
   "cell_type": "code",
   "execution_count": 45,
   "id": "da3a5cff-6659-43d2-952c-d59571e58784",
   "metadata": {},
   "outputs": [
    {
     "data": {
      "text/plain": [
       "'5'"
      ]
     },
     "execution_count": 45,
     "metadata": {},
     "output_type": "execute_result"
    }
   ],
   "source": [
    "x"
   ]
  },
  {
   "cell_type": "code",
   "execution_count": 46,
   "id": "e56102f4-6bd7-48fa-ba99-5928094978cb",
   "metadata": {},
   "outputs": [],
   "source": [
    "#The chr() function returns the character that represents the specified unicode.\n",
    "#Convert an integer to a string of one character whose ASCII code is same as the integer\n",
    "#using chr() function. The integer value should be in the range of 0–255."
   ]
  },
  {
   "cell_type": "code",
   "execution_count": 49,
   "id": "377d77c0-138b-4435-ad5a-0e73868a99c9",
   "metadata": {},
   "outputs": [],
   "source": [
    "x=chr(8)"
   ]
  },
  {
   "cell_type": "code",
   "execution_count": 50,
   "id": "85a56cba-88a5-4a34-81c8-baa6c1658de8",
   "metadata": {},
   "outputs": [
    {
     "data": {
      "text/plain": [
       "'\\x08'"
      ]
     },
     "execution_count": 50,
     "metadata": {},
     "output_type": "execute_result"
    }
   ],
   "source": [
    "x"
   ]
  },
  {
   "cell_type": "markdown",
   "id": "32ed32df-c1b8-4916-80fb-aea174e55b10",
   "metadata": {},
   "source": [
    "# OPERATORS"
   ]
  },
  {
   "cell_type": "code",
   "execution_count": 1,
   "id": "133b94ff-047a-46fb-b219-36748ca476b3",
   "metadata": {},
   "outputs": [],
   "source": [
    "# Operators are symbols that perform certain mathematical or logical operation to maniplate data values\n",
    "# and produce a result based on some rules\n",
    "# An operator manipulates the data values called Operands"
   ]
  },
  {
   "cell_type": "markdown",
   "id": "a9c35936-adfe-4979-9f35-b91f6155cf26",
   "metadata": {},
   "source": [
    "Arithmatic Operators:"
   ]
  },
  {
   "cell_type": "code",
   "execution_count": 2,
   "id": "3c2280ac-4560-4229-b016-1e0c815ac5a3",
   "metadata": {},
   "outputs": [],
   "source": [
    "# adding the operands and producing their sum."
   ]
  },
  {
   "cell_type": "code",
   "execution_count": 18,
   "id": "a76f8ae3-234b-4c6d-80a6-8119ebd4e7ea",
   "metadata": {},
   "outputs": [],
   "source": [
    "p = 7\n",
    "q = 3"
   ]
  },
  {
   "cell_type": "code",
   "execution_count": 19,
   "id": "56848062-1579-46a0-9076-dddfebbc4c1b",
   "metadata": {},
   "outputs": [
    {
     "data": {
      "text/plain": [
       "10"
      ]
     },
     "execution_count": 19,
     "metadata": {},
     "output_type": "execute_result"
    }
   ],
   "source": [
    "p + q"
   ]
  },
  {
   "cell_type": "code",
   "execution_count": 20,
   "id": "23f3498b-1f06-4cc9-a513-d26feaa2d0a4",
   "metadata": {},
   "outputs": [],
   "source": [
    "# subtract the operands and producing their difference."
   ]
  },
  {
   "cell_type": "code",
   "execution_count": 21,
   "id": "92db3bfd-b6dd-47e9-8f45-cb64eb9cd214",
   "metadata": {},
   "outputs": [
    {
     "data": {
      "text/plain": [
       "4"
      ]
     },
     "execution_count": 21,
     "metadata": {},
     "output_type": "execute_result"
    }
   ],
   "source": [
    "p - q"
   ]
  },
  {
   "cell_type": "code",
   "execution_count": 22,
   "id": "6d308de0-3e44-4de3-9c5d-e82624da5eae",
   "metadata": {},
   "outputs": [],
   "source": [
    "# multiplication operators produces the product of the operands."
   ]
  },
  {
   "cell_type": "code",
   "execution_count": 23,
   "id": "be34bae8-cf57-4abc-bcc1-590798404e30",
   "metadata": {},
   "outputs": [
    {
     "data": {
      "text/plain": [
       "21"
      ]
     },
     "execution_count": 23,
     "metadata": {},
     "output_type": "execute_result"
    }
   ],
   "source": [
    "p * q"
   ]
  },
  {
   "cell_type": "code",
   "execution_count": 24,
   "id": "9430d784-118d-4bce-9823-1d470709733f",
   "metadata": {},
   "outputs": [],
   "source": [
    "# division operator produces the quotient of its operands\n",
    "# where the left operand is the dividend and the right operand is the divisor"
   ]
  },
  {
   "cell_type": "code",
   "execution_count": 25,
   "id": "3b735520-7114-4dce-bc06-a4a3a8cacc06",
   "metadata": {},
   "outputs": [
    {
     "data": {
      "text/plain": [
       "2.3333333333333335"
      ]
     },
     "execution_count": 25,
     "metadata": {},
     "output_type": "execute_result"
    }
   ],
   "source": [
    "p/q"
   ]
  },
  {
   "cell_type": "code",
   "execution_count": 26,
   "id": "74b44133-e18c-4766-949f-6ab9982a3f74",
   "metadata": {},
   "outputs": [],
   "source": [
    "# Modulus operator Divides left hand operand by right hand operand and returns a remainder"
   ]
  },
  {
   "cell_type": "code",
   "execution_count": 27,
   "id": "33813fa8-fdb8-462a-b69b-bb07979ad1fe",
   "metadata": {},
   "outputs": [
    {
     "data": {
      "text/plain": [
       "1"
      ]
     },
     "execution_count": 27,
     "metadata": {},
     "output_type": "execute_result"
    }
   ],
   "source": [
    "p % q"
   ]
  },
  {
   "cell_type": "code",
   "execution_count": 28,
   "id": "7725663f-da84-45b3-a4d2-87ef772db3ef",
   "metadata": {},
   "outputs": [],
   "source": [
    "# Exponent operator Performs exponential (power) calculation on operators."
   ]
  },
  {
   "cell_type": "code",
   "execution_count": 29,
   "id": "d4907c94-ad12-4dd3-9d3a-ad0af0b5b9c4",
   "metadata": {},
   "outputs": [
    {
     "data": {
      "text/plain": [
       "343"
      ]
     },
     "execution_count": 29,
     "metadata": {},
     "output_type": "execute_result"
    }
   ],
   "source": [
    "p ** q"
   ]
  },
  {
   "cell_type": "code",
   "execution_count": 30,
   "id": "0c3f8423-e6b1-44ea-a5c6-df0614464b0f",
   "metadata": {},
   "outputs": [],
   "source": [
    "# Floor division operator Returns the integral part of the quotient."
   ]
  },
  {
   "cell_type": "code",
   "execution_count": 31,
   "id": "3ee214d5-62ef-42f8-a572-f3177a948693",
   "metadata": {},
   "outputs": [
    {
     "data": {
      "text/plain": [
       "2"
      ]
     },
     "execution_count": 31,
     "metadata": {},
     "output_type": "execute_result"
    }
   ],
   "source": [
    "p // q"
   ]
  },
  {
   "cell_type": "markdown",
   "id": "cca0d0c7-6469-4a2b-b6c9-0371d3e59a91",
   "metadata": {},
   "source": [
    "Comparison Operators:"
   ]
  },
  {
   "cell_type": "code",
   "execution_count": 1,
   "id": "0efb2426-90c8-4341-80c3-d777bceace03",
   "metadata": {},
   "outputs": [],
   "source": [
    "# When the values of two operands are to be compared, then comparison operators are used.\n",
    "# The output of these comparison operators is always a Boolean value, either True or False."
   ]
  },
  {
   "cell_type": "code",
   "execution_count": 3,
   "id": "af1f7cb8-f170-4033-98b9-c0cc990622a4",
   "metadata": {},
   "outputs": [],
   "source": [
    "a = 10\n",
    "b = 20"
   ]
  },
  {
   "cell_type": "code",
   "execution_count": 4,
   "id": "25fbaa44-51f6-476a-8754-844e2783e340",
   "metadata": {},
   "outputs": [],
   "source": [
    "# == (Equal to) If the values of two operands are equal, then the condition becomes True."
   ]
  },
  {
   "cell_type": "code",
   "execution_count": 5,
   "id": "2236259c-fa6c-46ca-adfd-f0a9177ed9f8",
   "metadata": {},
   "outputs": [
    {
     "data": {
      "text/plain": [
       "False"
      ]
     },
     "execution_count": 5,
     "metadata": {},
     "output_type": "execute_result"
    }
   ],
   "source": [
    "a == b"
   ]
  },
  {
   "cell_type": "code",
   "execution_count": 6,
   "id": "5cd2683e-8877-414a-bb1c-e7720a647110",
   "metadata": {},
   "outputs": [],
   "source": [
    "# != (Not Equal to) If values of two operands are not equal, then the condition becomes True."
   ]
  },
  {
   "cell_type": "code",
   "execution_count": 7,
   "id": "f71d45c3-a24a-496c-b5b9-910df8bbd0f2",
   "metadata": {},
   "outputs": [
    {
     "data": {
      "text/plain": [
       "True"
      ]
     },
     "execution_count": 7,
     "metadata": {},
     "output_type": "execute_result"
    }
   ],
   "source": [
    "a != b"
   ]
  },
  {
   "cell_type": "code",
   "execution_count": 8,
   "id": "c9f8d7c1-1c80-4b00-a2e4-7b086937df34",
   "metadata": {},
   "outputs": [],
   "source": [
    "# > (Greater than) If the value of left operand is greater than the value of right operand, then condition becomes True."
   ]
  },
  {
   "cell_type": "code",
   "execution_count": 9,
   "id": "2e1fd171-c566-4917-b66f-9c229eaec34d",
   "metadata": {},
   "outputs": [
    {
     "data": {
      "text/plain": [
       "False"
      ]
     },
     "execution_count": 9,
     "metadata": {},
     "output_type": "execute_result"
    }
   ],
   "source": [
    "a > b"
   ]
  },
  {
   "cell_type": "code",
   "execution_count": 10,
   "id": "4db6f54f-9a9e-4ecb-9e17-f2f818363f6b",
   "metadata": {},
   "outputs": [],
   "source": [
    "# < (Lesser than)If the value of left operand is less than the value of right operand, then condition becomes True."
   ]
  },
  {
   "cell_type": "code",
   "execution_count": 11,
   "id": "7840f915-a93e-4269-9d63-f7af9b3787e3",
   "metadata": {},
   "outputs": [
    {
     "data": {
      "text/plain": [
       "True"
      ]
     },
     "execution_count": 11,
     "metadata": {},
     "output_type": "execute_result"
    }
   ],
   "source": [
    "a < b"
   ]
  },
  {
   "cell_type": "code",
   "execution_count": 12,
   "id": "3cb6bbc2-9b3b-48bb-be0e-8ba930119f4b",
   "metadata": {},
   "outputs": [],
   "source": [
    "# >= (Greater than or equal to) If the value of left operand is greater than or equal to the value of right operand, then condition becomes True."
   ]
  },
  {
   "cell_type": "code",
   "execution_count": 13,
   "id": "16af43a9-c307-42e2-98cd-acf4335d630f",
   "metadata": {},
   "outputs": [
    {
     "data": {
      "text/plain": [
       "False"
      ]
     },
     "execution_count": 13,
     "metadata": {},
     "output_type": "execute_result"
    }
   ],
   "source": [
    "a >= b"
   ]
  },
  {
   "cell_type": "code",
   "execution_count": 14,
   "id": "20795f68-c197-47c5-801a-96d3fa034ef0",
   "metadata": {},
   "outputs": [],
   "source": [
    "# <= (Lesser than or equal to) If the value of left operand is less than or equal to the value of right operand, then condition becomes True."
   ]
  },
  {
   "cell_type": "code",
   "execution_count": 15,
   "id": "e1a984d8-af99-40e7-8308-86254b15e70e",
   "metadata": {},
   "outputs": [
    {
     "data": {
      "text/plain": [
       "True"
      ]
     },
     "execution_count": 15,
     "metadata": {},
     "output_type": "execute_result"
    }
   ],
   "source": [
    "a <= b"
   ]
  },
  {
   "cell_type": "markdown",
   "id": "f48886bf-5ef1-4662-9034-bf14e34a0a58",
   "metadata": {},
   "source": [
    "# Don’t confuse the equality operator == with the assignment operator \n",
    "=. The expression x==y compares x with y an\n",
    "#  has the value Tru \r\n",
    "if the values are the same. The expression x=y assigns the value of y\r\n",
    "to x."
   ]
  },
  {
   "cell_type": "markdown",
   "id": "6cdccdfb-e8c4-4ad5-b585-0754d3df9aa5",
   "metadata": {},
   "source": [
    "Logical Operators"
   ]
  },
  {
   "cell_type": "code",
   "execution_count": 16,
   "id": "3612c983-0ee1-4d26-b690-cb1a7ddf5691",
   "metadata": {},
   "outputs": [],
   "source": [
    "# The logical operators are used for comparing or negating the logical values of their operands and to return the resulting logical value.\n",
    "# The result of logical operators is always a Boolean value, True or False."
   ]
  },
  {
   "cell_type": "code",
   "execution_count": 19,
   "id": "d720fc3e-6ddd-41f8-90b3-55169a98f740",
   "metadata": {},
   "outputs": [],
   "source": [
    "# and (Logical AND) Performs AND operation and the result is True when both operands are True"
   ]
  },
  {
   "cell_type": "code",
   "execution_count": 20,
   "id": "c357bd04-3a42-43df-baaa-6f4761bbde65",
   "metadata": {},
   "outputs": [
    {
     "data": {
      "text/plain": [
       "False"
      ]
     },
     "execution_count": 20,
     "metadata": {},
     "output_type": "execute_result"
    }
   ],
   "source": [
    "True and False"
   ]
  },
  {
   "cell_type": "code",
   "execution_count": 21,
   "id": "152d5a7c-044b-4fdd-958e-c76a88321d7e",
   "metadata": {},
   "outputs": [],
   "source": [
    "# or (Logical OR) Performs OR operation and the result is True when any one of both operand is True"
   ]
  },
  {
   "cell_type": "code",
   "execution_count": 22,
   "id": "0530a89f-5049-4943-bbba-75ab6e63d982",
   "metadata": {},
   "outputs": [
    {
     "data": {
      "text/plain": [
       "True"
      ]
     },
     "execution_count": 22,
     "metadata": {},
     "output_type": "execute_result"
    }
   ],
   "source": [
    "True or False"
   ]
  },
  {
   "cell_type": "code",
   "execution_count": 23,
   "id": "595a9418-0557-4948-8eb5-214f2770b083",
   "metadata": {},
   "outputs": [],
   "source": [
    "# not (Logical NOT) Reverses the operand state"
   ]
  },
  {
   "cell_type": "code",
   "execution_count": 24,
   "id": "11020ac5-cb2c-4f55-b8f8-bb2b643ce83a",
   "metadata": {},
   "outputs": [
    {
     "data": {
      "text/plain": [
       "False"
      ]
     },
     "execution_count": 24,
     "metadata": {},
     "output_type": "execute_result"
    }
   ],
   "source": [
    "not(True) and False"
   ]
  },
  {
   "cell_type": "code",
   "execution_count": 25,
   "id": "68fc0eec-3ed1-4714-829f-b271906e4c57",
   "metadata": {},
   "outputs": [
    {
     "data": {
      "text/plain": [
       "True"
      ]
     },
     "execution_count": 25,
     "metadata": {},
     "output_type": "execute_result"
    }
   ],
   "source": [
    "not(True and False)"
   ]
  },
  {
   "cell_type": "code",
   "execution_count": 26,
   "id": "000dc080-191e-45a4-9705-565c10317e8d",
   "metadata": {},
   "outputs": [
    {
     "data": {
      "text/plain": [
       "False"
      ]
     },
     "execution_count": 26,
     "metadata": {},
     "output_type": "execute_result"
    }
   ],
   "source": [
    "not(True or False)"
   ]
  },
  {
   "cell_type": "code",
   "execution_count": null,
   "id": "e9170c83-210c-4554-a2f7-f8c8f5e850f3",
   "metadata": {},
   "outputs": [],
   "source": []
  }
 ],
 "metadata": {
  "kernelspec": {
   "display_name": "Python 3 (ipykernel)",
   "language": "python",
   "name": "python3"
  },
  "language_info": {
   "codemirror_mode": {
    "name": "ipython",
    "version": 3
   },
   "file_extension": ".py",
   "mimetype": "text/x-python",
   "name": "python",
   "nbconvert_exporter": "python",
   "pygments_lexer": "ipython3",
   "version": "3.11.7"
  }
 },
 "nbformat": 4,
 "nbformat_minor": 5
}
